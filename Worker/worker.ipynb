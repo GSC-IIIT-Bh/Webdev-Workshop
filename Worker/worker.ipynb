{
 "cells": [
  {
   "cell_type": "code",
   "execution_count": null,
   "metadata": {},
   "outputs": [],
   "source": [
    "import pandas as pd\n",
    "import smtplib \n"
   ]
  },
  {
   "cell_type": "code",
   "execution_count": null,
   "metadata": {},
   "outputs": [],
   "source": [
    "res_csv=pd.read_csv(\"res_google_form.csv\")\n",
    "# res_csv"
   ]
  },
  {
   "cell_type": "code",
   "execution_count": null,
   "metadata": {},
   "outputs": [],
   "source": [
    "names=list(res_csv[\"Name\"])\n",
    "college_ids=list(res_csv[\"College ID\"])"
   ]
  },
  {
   "cell_type": "code",
   "execution_count": null,
   "metadata": {},
   "outputs": [],
   "source": [
    "#cleaning irregular data\n",
    "def make_emails(id):\n",
    "    id=id.split(\"@\")[0]\n",
    "    id=id.strip().lower()\n",
    "    return id+\"@iiit-bh.ac.in\"\n",
    "emails=list(map(make_emails,college_ids))\n",
    "# emails"
   ]
  },
  {
   "cell_type": "code",
   "execution_count": null,
   "metadata": {},
   "outputs": [],
   "source": [
    "#removing duplicates\n",
    "# duplicate_arr_index=[]\n",
    "recipent_mails=[]\n",
    "recipent_names=[]\n",
    "set_clean=set()\n",
    "for i,x in enumerate(emails):\n",
    "    if x not in recipent_mails:\n",
    "        recipent_mails.append(x)\n",
    "        recipent_names.append(names[i])\n",
    "    else:\n",
    "#         duplicate_arr_index.append([i,names[i]])\n",
    "        pass"
   ]
  },
  {
   "cell_type": "code",
   "execution_count": null,
   "metadata": {},
   "outputs": [],
   "source": [
    "#data for making gfg certificates\n",
    "data={\n",
    "    \"Names\":recipent_names,\n",
    "    \"Emails\":recipent_mails,\n",
    "    \"College Ids\":[x.split(\"@\")[0] for x in recipent_mails]\n",
    "}\n",
    "df=pd.DataFrame(data)\n",
    "df.to_csv(\"certificate_data.csv\")\n",
    "# recipent_names,recipent_mails"
   ]
  },
  {
   "cell_type": "code",
   "execution_count": null,
   "metadata": {},
   "outputs": [],
   "source": [
    "#use this block if stmp bugs out due to traffic ... set last sent mail index by seeing response.txt\n",
    "# checkpoint=80\n",
    "# recipent_names=recipent_names[int(checkpoint):]\n",
    "# recipent_mails=recipent_mails[int(checkpoint):]\n",
    "\n",
    "# recipent_mails,recipent_names"
   ]
  },
  {
   "cell_type": "code",
   "execution_count": null,
   "metadata": {},
   "outputs": [],
   "source": [
    "#mailer\n",
    "def send(fp,server,sender_mail,send_to_email,message,sent_status):\n",
    "    server.sendmail(sender_mail, send_to_email, message)\n",
    "    fp.write('email sent to '+send_to_email+'\\n')\n",
    "    sent_status.append(send_to_email)\n",
    "sent_status=[]\n",
    "#list contains the name of the recipents \n",
    "recipent_name=recipent_names\n",
    "#list contains the emails of the recipents\n",
    "recipent_mail=recipent_mails\n",
    "\n",
    "#attaching admin\n",
    "recipent_name.append(\"Aditya\")\n",
    "recipent_mail.append(\"b518006@iiit-bh.ac.in\")\n",
    "\n",
    "##### block ends\n",
    "names=recipent_name\n",
    "sender_mail=\"\"\n",
    "sender_pass=\"\"\n",
    "send_to_email =recipent_mail\n",
    "len_list=len(send_to_email)\n",
    "fp=open('response.txt','a')\n",
    "# print(names,send_to_email)\n",
    "server = smtplib.SMTP('smtp.gmail.com', 587)\n",
    "\n",
    "\n",
    "#enter the subject and body of your mail over here resp. \n",
    "subject = \"Geeks for Geeks -IIITBH Workshop Update : Reminder\"\n",
    "body=\"Your registration for web dev workshop was successful. Please join this(link below) group by 11PM today, further details will be shared in that group.\\nAll the doubts and issues will be taken there only.\\n\\n Link: https://chat.whatsapp.com/LGZejDEYO2KBRgfio2FL0s\"\n",
    "\n",
    "server.starttls()\n",
    "\n",
    "server.login(sender_mail, sender_pass)\n",
    "try:\n",
    "    for i in range(len_list):\n",
    "        body_temp= 'Geek ' + names[i] +',\\n\\n' +body\n",
    "        message = 'Subject: {}\\n\\n{}'.format(subject,body_temp)\n",
    "        send(fp,server,sender_mail,send_to_email[i],message,sent_status)\n",
    "        print(sent_status)\n",
    "    server.quit()\n",
    "    print(\"Email Sent Successfully!..A log can be found in response.txt\")\n",
    "    fp.close()\n",
    "except:\n",
    "    print(\"cached error\")\n",
    "    print(\"Email Sent Successfully!..A log can be found in response.txt\")\n",
    "    fp.close()"
   ]
  },
  {
   "cell_type": "code",
   "execution_count": null,
   "metadata": {},
   "outputs": [],
   "source": []
  }
 ],
 "metadata": {
  "kernelspec": {
   "display_name": "Python 3",
   "language": "python",
   "name": "python3"
  },
  "language_info": {
   "codemirror_mode": {
    "name": "ipython",
    "version": 3
   },
   "file_extension": ".py",
   "mimetype": "text/x-python",
   "name": "python",
   "nbconvert_exporter": "python",
   "pygments_lexer": "ipython3",
   "version": "3.8.6"
  }
 },
 "nbformat": 4,
 "nbformat_minor": 4
}
